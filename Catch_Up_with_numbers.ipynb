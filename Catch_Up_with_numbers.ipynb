{
  "cells": [
    {
      "cell_type": "markdown",
      "metadata": {
        "id": "qDN4bXn54-2I"
      },
      "source": [
        "## Problem Statement : Gaming with Min-Max Algorithm (Catch-Up with numbers)\n",
        "\n",
        "**Problem Description (Rules of the Game):**\n",
        "\n",
        "1. Two players take turns at choosing numbers from the set of natural numbers, {1, 2, 3, …, n}. The highest natural number n in this set is agreed on before the game. Once a number has been chosen, it is deleted from the set and cannot be chosen again.\n",
        "2. Call the player to make the first move P1, and the second player P2. I will refer to them both as \"it\". At the outset, P1 chooses one of the n original numbers.\n",
        "3. Thereafter, P1 and P2 successively choose one or more of the remaining numbers, but each must stop—and turn play over to the other player—when the sum of its choices up to that point equals or just exceeds its opponent's previous sum.\n",
        "4. The goal of the players is to have a higher sum than an opponent at the end of play— and by as much as possible—or that failing, to have the same sum. If neither of these goals is achievable, a player prefers to lose by as small amount as possible\n",
        "5. The game ends when all numbers have been chosen. If one player has a higher sum than the other, that player wins. If not the game ends in a tie.\n",
        "\n",
        "**EXAMPLE:**\n",
        "\n",
        "For example, assume n=5, so the numbers at the start are {1, 2, 3, 4, 5}. Sample choices of players are as below:\n",
        "\n",
        "P1's first choice: P1 chooses one of the 5 numbers at random. Each number has the same probability of being chosen.\n",
        "\n",
        "P2's first choice: For purposes of illustration, assume that P1 chooses {3}. Then there are eight possible subsets of the remaining numbers whose sum equals or exceeds 3: {4}, {5}, {1, 2}, {1, 4}, {1, 5}, {2, 1}, {2, 4}, {2, 5}\n",
        "\n",
        "P2 chooses one of these possibilities at random. Again, all possibilities have an equal probability of being picked.\n",
        "\n",
        "In six of these cases, the subsets comprise two numbers, wherein the first number—either 1 or 2—is less than 3, so a second number (the second number in each subset) is needed to make the sum for P2 equal to or greater than 3. After P2 chooses one of the eight subsets at random, either two or three numbers remain.\n",
        "\n",
        "P1's second choice: P1 will choose again, and at random, a subset of the remaining numbers such that, when they are added to P1's present score of 3, equals or exceeds P2's score. Depending on the numbers that P1 chooses when it makes a second choice, P2 may or may not have a second choice that equals or exceeds P1's last total.\n",
        "\n",
        "In summary, when a player randomises, it chooses with equal probability any of the subsets of available numbers that equal or exceed an opponent's last total."
      ]
    },
    {
      "cell_type": "code",
      "source": [
        "import math\n",
        "from tabulate import tabulate\n",
        "import time"
      ],
      "metadata": {
        "id": "Ut4A88RmZ8ct"
      },
      "execution_count": 1,
      "outputs": []
    },
    {
      "cell_type": "markdown",
      "metadata": {
        "id": "4Zc3T1q-5K1C"
      },
      "source": [
        "### PEAS for the Catchup Game\n",
        "\n",
        "- Performance Measure: The performance measure for the players is to maximize their final sum or minimize their loss if a win is not possible.\n",
        "- Environment: The environment consists of the set of natural numbers {1, 2, 3, ..., n} from which the players choose numbers.\n",
        "- Actuators: The players choose numbers from the set of available numbers.\n",
        "- Sensors: The players observe the opponent's previous sum and the set of available numbers to make their choices."
      ]
    },
    {
      "cell_type": "code",
      "execution_count": 2,
      "metadata": {
        "id": "ZKXMJJh748Av"
      },
      "outputs": [],
      "source": [
        "# Define Constants for the Game\n",
        "MAX_NUMBER = 5\n",
        "INITIAL_STATE = frozenset(range(1, MAX_NUMBER + 1))\n",
        "PLAYER1 = 1\n",
        "PLAYER2 = 2\n",
        "POSITIVE_INFINITY = math.inf\n",
        "NEGATIVE_INFINITY = -math.inf\n",
        "\n",
        "# Purpose of the Class : Representation of each Game State\n",
        "class State:\n",
        "    # Purpose of the function: Initialize the Variables for the State\n",
        "    def __init__(self, numbers, current_player, p1_score, p2_score):\n",
        "        self.numbers = set(numbers)  # Set of available numbers\n",
        "        self.current_player = current_player  # Current player's turn\n",
        "        self.p1_score = p1_score  # Player 1's score\n",
        "        self.p2_score = p2_score  # Player 2's score\n",
        "    # Purpose of the function : Checking if the game has ended or not\n",
        "    def checkIfTerminal(self):\n",
        "        return len(self.numbers) == 0\n",
        "    # Purpose of the function : Calculate the utility of each state\n",
        "    def computeUtility(self):\n",
        "        return self.p1_score - self.p2_score  # The difference in the scores\n",
        "\n",
        "# Purpose of the function: To get possible moves from a given state\n",
        "def getPossibleMoves(state):\n",
        "    moves = []\n",
        "    current_sum = state.p1_score if state.current_player == PLAYER1 else state.p2_score\n",
        "    for num in state.numbers:\n",
        "        if num >= current_sum:\n",
        "            moves.append(num)\n",
        "    return moves"
      ]
    },
    {
      "cell_type": "markdown",
      "metadata": {
        "id": "utWt4iVl6yfx"
      },
      "source": [
        "### Implementation of the Min-Max algorithm\n",
        "\n",
        "- Recursive Function: Implement a recursive function that explores possible future states of the game by simulating each player's move.\n",
        "- Terminal State Evaluation: At terminal states (end of the game), evaluate the state and assign a score reflecting the outcome (win, lose, or tie).\n",
        "- Backtracking: Backtrack the scores obtained from terminal states to determine the best possible move for the current player.\n",
        "- Choosing the Best Move: Select the move with the maximum score for the maximizing player (P1) and the move with the minimum score for the minimizing player (P2)."
      ]
    },
    {
      "cell_type": "code",
      "execution_count": 3,
      "metadata": {
        "id": "J7utLGUt6zc3"
      },
      "outputs": [],
      "source": [
        "def minMaxImplementation(state, depth):\n",
        "    if state.checkIfTerminal() or depth == 0:\n",
        "        return state.computeUtility(), None\n",
        "    if state.current_player == PLAYER1:\n",
        "        value = NEGATIVE_INFINITY\n",
        "        best_move = None\n",
        "        for move in getPossibleMoves(state):\n",
        "            new_numbers = state.numbers - {move}\n",
        "            new_score = state.p1_score + move if state.current_player == PLAYER1 else state.p2_score + move\n",
        "            new_state = State(new_numbers, PLAYER2, state.p1_score, state.p2_score) if state.current_player == PLAYER1 else State(new_numbers, PLAYER1, state.p1_score, state.p2_score)\n",
        "            score, _ = minMaxImplementation(new_state, depth - 1)\n",
        "            if score > value:\n",
        "                value = score\n",
        "                best_move = move\n",
        "        return value, best_move\n",
        "    else:\n",
        "        value = POSITIVE_INFINITY\n",
        "        best_move = None\n",
        "        for move in getPossibleMoves(state):\n",
        "            new_numbers = state.numbers - {move}\n",
        "            new_score = state.p1_score + move if state.current_player == PLAYER1 else state.p2_score + move\n",
        "            new_state = State(new_numbers, PLAYER2, state.p1_score, state.p2_score) if state.current_player == PLAYER1 else State(new_numbers, PLAYER1, state.p1_score, state.p2_score)\n",
        "            score, _ = minMaxImplementation(new_state, depth - 1)\n",
        "            if score < value:\n",
        "                value = score\n",
        "                best_move = move\n",
        "        return value, best_move"
      ]
    },
    {
      "cell_type": "markdown",
      "metadata": {
        "id": "PdCbOHlY7Dd_"
      },
      "source": [
        "### Implementation of the alpha-beta pruning\n",
        "\n",
        "Alpha-Beta pruning is an optimization technique to reduce the number of nodes evaluated by the Min-Max algorithm. It helps in speeding up the search process by pruning branches of the game tree that are guaranteed not to influence the final decision. The key idea is to maintain two values, alpha and beta, which represent the minimum score the maximizing player is assured of and the maximum score the minimizing player is assured of respectively."
      ]
    },
    {
      "cell_type": "code",
      "execution_count": 4,
      "metadata": {
        "id": "yYNym2607GF0"
      },
      "outputs": [],
      "source": [
        "def minMaxImplementation_AlphaBetaPruning(state, depth, alpha, beta):\n",
        "    if state.checkIfTerminal() or depth == 0:\n",
        "        return state.computeUtility(), None\n",
        "    if state.current_player == PLAYER1:\n",
        "        value = NEGATIVE_INFINITY\n",
        "        best_move = None\n",
        "        for move in getPossibleMoves(state):\n",
        "            new_numbers = state.numbers - {move}\n",
        "            new_state = State(new_numbers, PLAYER2, state.p1_score, state.p2_score) if state.current_player == PLAYER1 else State(new_numbers, PLAYER1, state.p1_score, state.p2_score)\n",
        "            score, _ = minMaxImplementation_AlphaBetaPruning(new_state, depth - 1, alpha, beta)\n",
        "            if score > value:\n",
        "                value = score\n",
        "                best_move = move\n",
        "            alpha = max(alpha, value)\n",
        "            if alpha >= beta:\n",
        "                break\n",
        "        return value, best_move\n",
        "    else:\n",
        "        value = POSITIVE_INFINITY\n",
        "        best_move = None\n",
        "        for move in getPossibleMoves(state):\n",
        "            new_numbers = state.numbers - {move}\n",
        "            new_state = State(new_numbers, PLAYER2, state.p1_score, state.p2_score) if state.current_player == PLAYER1 else State(new_numbers, PLAYER1, state.p1_score, state.p2_score)\n",
        "            score, _ = minMaxImplementation_AlphaBetaPruning(new_state, depth - 1, alpha, beta)\n",
        "            if score < value:\n",
        "                value = score\n",
        "                best_move = move\n",
        "            beta = min(beta, value)\n",
        "            if alpha >= beta:\n",
        "                break\n",
        "        return value, best_move\n"
      ]
    },
    {
      "cell_type": "markdown",
      "metadata": {
        "id": "hux3xpuW7IM3"
      },
      "source": [
        "### Choice and implementation of the Static Evaluation Function\n",
        "\n",
        "The static evaluation function is used to evaluate non-terminal game states. It assigns a score to each state based on its desirability for the player. In this game, a simple static evaluation function could be the difference between the sums of the two players, aiming to maximize this difference if winning or minimize it if losing."
      ]
    },
    {
      "cell_type": "code",
      "execution_count": 5,
      "metadata": {
        "id": "JLEsKQud7JAr"
      },
      "outputs": [],
      "source": [
        "def staticEvaluationFunction(state):\n",
        "    return state.computeUtility()"
      ]
    },
    {
      "cell_type": "markdown",
      "metadata": {
        "id": "JhnNKJAt8O_w"
      },
      "source": [
        "### Implementation of Game Playing\n",
        "\n",
        "Implement the game setup, including initializing the set of numbers, deciding which player starts first, and iterating through player moves until the game reaches a terminal state."
      ]
    },
    {
      "cell_type": "code",
      "execution_count": 6,
      "metadata": {
        "id": "1Y4Z7Mui8S27"
      },
      "outputs": [],
      "source": [
        "def playGameUsingMinMax():\n",
        "    print(\"Starting the game with Min-Max Algorithm\\n\")\n",
        "    state = State(INITIAL_STATE, PLAYER1, 0, 0)\n",
        "    consecutive_passes = 0\n",
        "    game_log = []\n",
        "    print(f\"==================== Game Started ====================\\n\")\n",
        "    while not state.checkIfTerminal() and consecutive_passes < 2:\n",
        "        turn = len(INITIAL_STATE) - len(state.numbers)\n",
        "        player = state.current_player\n",
        "        print(f\"  Turn    Player  Move    Numbers Left\")\n",
        "        print(\"------  --------  ------  ---------------\")\n",
        "        move_text = 'Pass' if player == PLAYER2 else 'Enter your move: '\n",
        "        print(f\"     {turn:<4}        {player}       {move_text:<4}   {state.numbers}\")\n",
        "        if player == PLAYER1:\n",
        "            depth = 3  # Adjust depth for the Min-Max algorithm\n",
        "            move = getInteractiveMove(state)\n",
        "        else:\n",
        "            depth = 3  # Adjust depth for the Min-Max algorithm\n",
        "            score, move = minMaxImplementation(state, depth)\n",
        "        if move is None:\n",
        "            move = 'Pass'\n",
        "            consecutive_passes += 1\n",
        "        else:\n",
        "            consecutive_passes = 0\n",
        "            state.numbers.remove(move)\n",
        "            state.p1_score += move if player == PLAYER1 else 0\n",
        "            state.p2_score += move if player == PLAYER2 else 0\n",
        "        game_log.append((turn, player, move, state.numbers.copy()))\n",
        "        state.current_player = PLAYER2 if player == PLAYER1 else PLAYER1\n",
        "    print(\"\\n==================== Game Over ====================\")\n",
        "    print(f\"Final scores:\\nPlayer 1 - {state.p1_score}\\nPlayer 2 - {state.p2_score}\\n\")\n",
        "    if state.p1_score > state.p2_score:\n",
        "            print(\"Player 1 wins! 🎉🎉🎉\")\n",
        "            print(\"Player 2 loses! 😔\")\n",
        "    elif state.p1_score < state.p2_score:\n",
        "            print(\"Player 2 wins! 🎉🎉🎉\")\n",
        "            print(\"Player 1 loses! 😔\")\n",
        "    else:\n",
        "            print(\"It's a tie! 🤝\")\n",
        "    print(\"\\n\")\n",
        "    print(\"\\nHere's the Summary For the Game:\")\n",
        "    print(tabulate(game_log, headers=['Turn', 'Player', 'Move', 'Numbers Left']))"
      ]
    },
    {
      "cell_type": "code",
      "execution_count": 7,
      "metadata": {
        "id": "6ow_c6GDH2HZ"
      },
      "outputs": [],
      "source": [
        "def playGameUsingMinMax_AlphaBetaPruning():\n",
        "    state = State(INITIAL_STATE, PLAYER1, 0, 0)\n",
        "    consecutive_passes = 0\n",
        "    game_log = []\n",
        "    print(\"Starting the game with Min-Max Algorithm with Alpha-Beta Pruning\\n\")\n",
        "    print(f\"==================== Game Started ====================\\n\")\n",
        "    while not state.checkIfTerminal() and consecutive_passes < 2:\n",
        "        turn = len(INITIAL_STATE) - len(state.numbers)\n",
        "        player = state.current_player\n",
        "        print(f\"  Turn    Player  Move    Numbers Left\")\n",
        "        print(\"------  --------  ------  ---------------\")\n",
        "        move_text = 'Pass' if player == PLAYER2 else 'Enter your move: '\n",
        "        print(f\"     {turn:<4}        {player}       {move_text:<4}   {state.numbers}\")\n",
        "        if player == PLAYER1:\n",
        "            depth = 3  # Adjust depth for the Min-Max algorithm\n",
        "            move = getInteractiveMove(state)\n",
        "        else:\n",
        "            depth = 3  # Adjust depth for the Min-Max algorithm\n",
        "            score, move = minMaxImplementation_AlphaBetaPruning(state, depth, NEGATIVE_INFINITY, POSITIVE_INFINITY)\n",
        "        if move is None:\n",
        "            move = 'Pass'\n",
        "            consecutive_passes += 1\n",
        "        else:\n",
        "            consecutive_passes = 0\n",
        "            print(f\"\\nPlayer {player} chooses {move}\")\n",
        "            state.numbers.remove(move)\n",
        "            state.p1_score += move if player == PLAYER1 else 0\n",
        "            state.p2_score += move if player == PLAYER2 else 0\n",
        "        game_log.append((turn, player, move, state.numbers.copy()))\n",
        "        state.current_player = PLAYER2 if player == PLAYER1 else PLAYER1\n",
        "    print(\"\\n==================== Game Over ====================\")\n",
        "    print(f\"Final scores: Player 1 - {state.p1_score}, Player 2 - {state.p2_score}\\n\")\n",
        "    if state.p1_score > state.p2_score:\n",
        "        print(\"Player 1 wins! 🎉🎉🎉\")\n",
        "        print(\"Player 2 loses! 😔\")\n",
        "    elif state.p1_score < state.p2_score:\n",
        "        print(\"Player 2 wins! 🎉🎉🎉\")\n",
        "        print(\"Player 1 loses! 😔\")\n",
        "    else:\n",
        "        print(\"It's a tie! 🤝\")\n",
        "    print(\"\\n\")\n",
        "    print(\"\\nTabular Summary:\")\n",
        "    print(tabulate(game_log, headers=['Turn', 'Player', 'Move', 'Numbers Left']))"
      ]
    },
    {
      "cell_type": "markdown",
      "source": [
        "### Taking Dynamic Inputs\n",
        "\n",
        "Dynamic inputs-based run of the game with step wise board display and error free game ending."
      ],
      "metadata": {
        "id": "UUzfP4WzV9Fc"
      }
    },
    {
      "cell_type": "code",
      "execution_count": 8,
      "metadata": {
        "id": "3pL_20itNyER"
      },
      "outputs": [],
      "source": [
        "def getInteractiveMove(state):\n",
        "    move = None\n",
        "    while move not in state.numbers:\n",
        "        try:\n",
        "            move = int(input(\"Enter your move: \"))\n",
        "        except ValueError:\n",
        "            print(\"Invalid input! Please enter a valid move.\")\n",
        "    return move"
      ]
    },
    {
      "cell_type": "markdown",
      "source": [
        "### Starting the Game"
      ],
      "metadata": {
        "id": "3KE4QnfpWHdL"
      }
    },
    {
      "cell_type": "code",
      "execution_count": 9,
      "metadata": {
        "colab": {
          "base_uri": "https://localhost:8080/"
        },
        "id": "leaD5MLi-4is",
        "outputId": "bbc5438e-6780-4053-e19a-9eec4824fb43"
      },
      "outputs": [
        {
          "output_type": "stream",
          "name": "stdout",
          "text": [
            "Starting the game with Min-Max Algorithm\n",
            "\n",
            "==================== Game Started ====================\n",
            "\n",
            "  Turn    Player  Move    Numbers Left\n",
            "------  --------  ------  ---------------\n",
            "     0           1       Enter your move:    {1, 2, 3, 4, 5}\n",
            "Enter your move: 4\n",
            "  Turn    Player  Move    Numbers Left\n",
            "------  --------  ------  ---------------\n",
            "     1           2       Pass   {1, 2, 3, 5}\n",
            "  Turn    Player  Move    Numbers Left\n",
            "------  --------  ------  ---------------\n",
            "     2           1       Enter your move:    {1, 2, 3}\n",
            "Enter your move: 2\n",
            "  Turn    Player  Move    Numbers Left\n",
            "------  --------  ------  ---------------\n",
            "     3           2       Pass   {1, 3}\n",
            "  Turn    Player  Move    Numbers Left\n",
            "------  --------  ------  ---------------\n",
            "     3           1       Enter your move:    {1, 3}\n",
            "Enter your move: 3\n",
            "  Turn    Player  Move    Numbers Left\n",
            "------  --------  ------  ---------------\n",
            "     4           2       Pass   {1}\n",
            "  Turn    Player  Move    Numbers Left\n",
            "------  --------  ------  ---------------\n",
            "     4           1       Enter your move:    {1}\n",
            "Enter your move: 1\n",
            "\n",
            "==================== Game Over ====================\n",
            "Final scores:\n",
            "Player 1 - 10\n",
            "Player 2 - 5\n",
            "\n",
            "Player 1 wins! 🎉🎉🎉\n",
            "Player 2 loses! 😔\n",
            "\n",
            "\n",
            "\n",
            "Here's the Summary For the Game:\n",
            "  Turn    Player  Move    Numbers Left\n",
            "------  --------  ------  --------------\n",
            "     0         1  4       {1, 2, 3, 5}\n",
            "     1         2  5       {1, 2, 3}\n",
            "     2         1  2       {1, 3}\n",
            "     3         2  Pass    {1, 3}\n",
            "     3         1  3       {1}\n",
            "     4         2  Pass    {1}\n",
            "     4         1  1       set()\n"
          ]
        }
      ],
      "source": [
        "if __name__ == \"__main__\":\n",
        "    playGameUsingMinMax()"
      ]
    },
    {
      "cell_type": "code",
      "execution_count": 10,
      "metadata": {
        "id": "q0FWZgaGIKz1",
        "colab": {
          "base_uri": "https://localhost:8080/"
        },
        "outputId": "dc2e48d6-c2e2-4220-816d-07e6c2707e84"
      },
      "outputs": [
        {
          "output_type": "stream",
          "name": "stdout",
          "text": [
            "Starting the game with Min-Max Algorithm with Alpha-Beta Pruning\n",
            "\n",
            "==================== Game Started ====================\n",
            "\n",
            "  Turn    Player  Move    Numbers Left\n",
            "------  --------  ------  ---------------\n",
            "     0           1       Enter your move:    {1, 2, 3, 4, 5}\n",
            "Enter your move: 1\n",
            "\n",
            "Player 1 chooses 1\n",
            "  Turn    Player  Move    Numbers Left\n",
            "------  --------  ------  ---------------\n",
            "     1           2       Pass   {2, 3, 4, 5}\n",
            "\n",
            "Player 2 chooses 2\n",
            "  Turn    Player  Move    Numbers Left\n",
            "------  --------  ------  ---------------\n",
            "     2           1       Enter your move:    {3, 4, 5}\n",
            "Enter your move: 2\n",
            "Enter your move: 3\n",
            "\n",
            "Player 1 chooses 3\n",
            "  Turn    Player  Move    Numbers Left\n",
            "------  --------  ------  ---------------\n",
            "     3           2       Pass   {4, 5}\n",
            "\n",
            "Player 2 chooses 4\n",
            "  Turn    Player  Move    Numbers Left\n",
            "------  --------  ------  ---------------\n",
            "     4           1       Enter your move:    {5}\n",
            "Enter your move: 5\n",
            "\n",
            "Player 1 chooses 5\n",
            "\n",
            "==================== Game Over ====================\n",
            "Final scores: Player 1 - 9, Player 2 - 6\n",
            "\n",
            "Player 1 wins! 🎉🎉🎉\n",
            "Player 2 loses! 😔\n",
            "\n",
            "\n",
            "\n",
            "Tabular Summary:\n",
            "  Turn    Player    Move  Numbers Left\n",
            "------  --------  ------  --------------\n",
            "     0         1       1  {2, 3, 4, 5}\n",
            "     1         2       2  {3, 4, 5}\n",
            "     2         1       3  {4, 5}\n",
            "     3         2       4  {5}\n",
            "     4         1       5  set()\n"
          ]
        }
      ],
      "source": [
        "if __name__ == \"__main__\":\n",
        "  playGameUsingMinMax_AlphaBetaPruning()"
      ]
    }
  ],
  "metadata": {
    "colab": {
      "collapsed_sections": [
        "VUdXmYtT48bj",
        "qDN4bXn54-2I",
        "4Zc3T1q-5K1C",
        "utWt4iVl6yfx",
        "PdCbOHlY7Dd_",
        "hux3xpuW7IM3",
        "JhnNKJAt8O_w",
        "UUzfP4WzV9Fc",
        "3KE4QnfpWHdL",
        "b0Aa0SiT69U-",
        "CaSrJWCgMonA",
        "SukO-gu3sRwF"
      ],
      "provenance": [],
      "gpuType": "T4"
    },
    "kernelspec": {
      "display_name": "Python 3",
      "name": "python3"
    },
    "language_info": {
      "name": "python"
    },
    "accelerator": "GPU"
  },
  "nbformat": 4,
  "nbformat_minor": 0
}